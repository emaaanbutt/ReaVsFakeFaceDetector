{
 "cells": [
  {
   "cell_type": "code",
   "execution_count": 10,
   "id": "94d0f41f",
   "metadata": {},
   "outputs": [],
   "source": [
    "from tensorflow.keras.models import Sequential\n",
    "from tensorflow.keras.layers import Dense, Flatten, Conv2D, MaxPooling2D, Dropout\n",
    "from tensorflow.keras.preprocessing.image import ImageDataGenerator\n",
    "from tensorflow.keras import regularizers"
   ]
  },
  {
   "cell_type": "code",
   "execution_count": 11,
   "id": "7cb2f77d",
   "metadata": {},
   "outputs": [],
   "source": [
    "train_path = \"real-vs-fake/train\"\n",
    "val_path = \"real-vs-fake/valid\"\n",
    "test_path = \"real-vs-fake/test\""
   ]
  },
  {
   "cell_type": "code",
   "execution_count": 12,
   "id": "589ae5fa",
   "metadata": {},
   "outputs": [],
   "source": [
    "img_size = (128,128)\n",
    "batch_size = 32\n",
    "\n",
    "train_generator = ImageDataGenerator(rescale=1./255)\n",
    "val_generator = ImageDataGenerator(rescale=1./255)\n",
    "test_generator = ImageDataGenerator(rescale=1./255)"
   ]
  },
  {
   "cell_type": "code",
   "execution_count": 13,
   "id": "7a5e6580",
   "metadata": {},
   "outputs": [
    {
     "name": "stdout",
     "output_type": "stream",
     "text": [
      "Found 100000 images belonging to 2 classes.\n",
      "Found 20000 images belonging to 2 classes.\n",
      "Found 20000 images belonging to 2 classes.\n"
     ]
    }
   ],
   "source": [
    "# Creating data loaders\n",
    "train_data = train_generator.flow_from_directory(\n",
    "    train_path,\n",
    "    target_size = img_size,\n",
    "    batch_size = batch_size,\n",
    "    class_mode = 'binary'\n",
    ")\n",
    "\n",
    "val_data = val_generator.flow_from_directory(\n",
    "    val_path,\n",
    "    target_size = img_size,\n",
    "    batch_size = batch_size,\n",
    "    class_mode = 'binary'\n",
    ")\n",
    "\n",
    "test_data = test_generator.flow_from_directory(\n",
    "    test_path,\n",
    "    target_size = img_size,\n",
    "    batch_size = batch_size,\n",
    "    class_mode = 'binary',\n",
    "    shuffle=False\n",
    ")"
   ]
  },
  {
   "cell_type": "code",
   "execution_count": 14,
   "id": "ac62db1c",
   "metadata": {},
   "outputs": [
    {
     "name": "stderr",
     "output_type": "stream",
     "text": [
      "C:\\Users\\emxxx\\AppData\\Roaming\\Python\\Python312\\site-packages\\keras\\src\\layers\\convolutional\\base_conv.py:107: UserWarning: Do not pass an `input_shape`/`input_dim` argument to a layer. When using Sequential models, prefer using an `Input(shape)` object as the first layer in the model instead.\n",
      "  super().__init__(activity_regularizer=activity_regularizer, **kwargs)\n",
      "C:\\Users\\emxxx\\AppData\\Roaming\\Python\\Python312\\site-packages\\keras\\src\\trainers\\data_adapters\\py_dataset_adapter.py:121: UserWarning: Your `PyDataset` class should call `super().__init__(**kwargs)` in its constructor. `**kwargs` can include `workers`, `use_multiprocessing`, `max_queue_size`. Do not pass these arguments to `fit()`, as they will be ignored.\n",
      "  self._warn_if_super_not_called()\n"
     ]
    },
    {
     "name": "stdout",
     "output_type": "stream",
     "text": [
      "Epoch 1/15\n",
      "\u001b[1m3125/3125\u001b[0m \u001b[32m━━━━━━━━━━━━━━━━━━━━\u001b[0m\u001b[37m\u001b[0m \u001b[1m2054s\u001b[0m 657ms/step - accuracy: 0.6905 - loss: 0.5694 - val_accuracy: 0.8543 - val_loss: 0.3378\n",
      "Epoch 2/15\n",
      "\u001b[1m3125/3125\u001b[0m \u001b[32m━━━━━━━━━━━━━━━━━━━━\u001b[0m\u001b[37m\u001b[0m \u001b[1m1857s\u001b[0m 594ms/step - accuracy: 0.8713 - loss: 0.3052 - val_accuracy: 0.8950 - val_loss: 0.2557\n",
      "Epoch 3/15\n",
      "\u001b[1m3125/3125\u001b[0m \u001b[32m━━━━━━━━━━━━━━━━━━━━\u001b[0m\u001b[37m\u001b[0m \u001b[1m3124s\u001b[0m 999ms/step - accuracy: 0.9256 - loss: 0.1876 - val_accuracy: 0.9159 - val_loss: 0.2108\n",
      "Epoch 4/15\n",
      "\u001b[1m3125/3125\u001b[0m \u001b[32m━━━━━━━━━━━━━━━━━━━━\u001b[0m\u001b[37m\u001b[0m \u001b[1m2559s\u001b[0m 818ms/step - accuracy: 0.9516 - loss: 0.1262 - val_accuracy: 0.9250 - val_loss: 0.2011\n",
      "Epoch 5/15\n",
      "\u001b[1m3125/3125\u001b[0m \u001b[32m━━━━━━━━━━━━━━━━━━━━\u001b[0m\u001b[37m\u001b[0m \u001b[1m1240s\u001b[0m 397ms/step - accuracy: 0.9648 - loss: 0.0909 - val_accuracy: 0.9295 - val_loss: 0.2006\n",
      "Epoch 6/15\n",
      "\u001b[1m3125/3125\u001b[0m \u001b[32m━━━━━━━━━━━━━━━━━━━━\u001b[0m\u001b[37m\u001b[0m \u001b[1m1861s\u001b[0m 595ms/step - accuracy: 0.9727 - loss: 0.0722 - val_accuracy: 0.9301 - val_loss: 0.2210\n",
      "Epoch 7/15\n",
      "\u001b[1m3125/3125\u001b[0m \u001b[32m━━━━━━━━━━━━━━━━━━━━\u001b[0m\u001b[37m\u001b[0m \u001b[1m2025s\u001b[0m 648ms/step - accuracy: 0.9777 - loss: 0.0609 - val_accuracy: 0.9305 - val_loss: 0.2218\n",
      "Epoch 8/15\n",
      "\u001b[1m3125/3125\u001b[0m \u001b[32m━━━━━━━━━━━━━━━━━━━━\u001b[0m\u001b[37m\u001b[0m \u001b[1m2919s\u001b[0m 934ms/step - accuracy: 0.9816 - loss: 0.0509 - val_accuracy: 0.9327 - val_loss: 0.2218\n",
      "Epoch 9/15\n",
      "\u001b[1m3125/3125\u001b[0m \u001b[32m━━━━━━━━━━━━━━━━━━━━\u001b[0m\u001b[37m\u001b[0m \u001b[1m2251s\u001b[0m 720ms/step - accuracy: 0.9827 - loss: 0.0464 - val_accuracy: 0.9319 - val_loss: 0.2527\n",
      "Epoch 10/15\n",
      "\u001b[1m3125/3125\u001b[0m \u001b[32m━━━━━━━━━━━━━━━━━━━━\u001b[0m\u001b[37m\u001b[0m \u001b[1m1873s\u001b[0m 599ms/step - accuracy: 0.9854 - loss: 0.0396 - val_accuracy: 0.9326 - val_loss: 0.2427\n",
      "Epoch 11/15\n",
      "\u001b[1m3125/3125\u001b[0m \u001b[32m━━━━━━━━━━━━━━━━━━━━\u001b[0m\u001b[37m\u001b[0m \u001b[1m1222s\u001b[0m 391ms/step - accuracy: 0.9863 - loss: 0.0389 - val_accuracy: 0.9378 - val_loss: 0.2404\n",
      "Epoch 12/15\n",
      "\u001b[1m3125/3125\u001b[0m \u001b[32m━━━━━━━━━━━━━━━━━━━━\u001b[0m\u001b[37m\u001b[0m \u001b[1m1232s\u001b[0m 394ms/step - accuracy: 0.9871 - loss: 0.0362 - val_accuracy: 0.9360 - val_loss: 0.2561\n",
      "Epoch 13/15\n",
      "\u001b[1m3125/3125\u001b[0m \u001b[32m━━━━━━━━━━━━━━━━━━━━\u001b[0m\u001b[37m\u001b[0m \u001b[1m1220s\u001b[0m 390ms/step - accuracy: 0.9874 - loss: 0.0352 - val_accuracy: 0.9397 - val_loss: 0.2475\n",
      "Epoch 14/15\n",
      "\u001b[1m3125/3125\u001b[0m \u001b[32m━━━━━━━━━━━━━━━━━━━━\u001b[0m\u001b[37m\u001b[0m \u001b[1m1219s\u001b[0m 390ms/step - accuracy: 0.9886 - loss: 0.0329 - val_accuracy: 0.9397 - val_loss: 0.2597\n",
      "Epoch 15/15\n",
      "\u001b[1m3125/3125\u001b[0m \u001b[32m━━━━━━━━━━━━━━━━━━━━\u001b[0m\u001b[37m\u001b[0m \u001b[1m1239s\u001b[0m 396ms/step - accuracy: 0.9892 - loss: 0.0311 - val_accuracy: 0.9366 - val_loss: 0.2644\n"
     ]
    },
    {
     "data": {
      "text/plain": [
       "<keras.src.callbacks.history.History at 0x22ec7625be0>"
      ]
     },
     "execution_count": 14,
     "metadata": {},
     "output_type": "execute_result"
    }
   ],
   "source": [
    "model =  Sequential([\n",
    "    Conv2D(64, (3,3), activation='relu', input_shape=(128,128,3)),\n",
    "    MaxPooling2D(2,2),\n",
    "\n",
    "    Conv2D(32, (3,3), activation='relu'),\n",
    "    MaxPooling2D(2,2),\n",
    "\n",
    "    Flatten(),\n",
    "    Dense(128, activation='relu'),\n",
    "    Dropout(0.3),\n",
    "    Dense(1, activation='sigmoid')\n",
    "])\n",
    "\n",
    "\n",
    "model.compile(optimizer='Adam',\n",
    "              loss='binary_crossentropy',\n",
    "              metrics=['accuracy'])\n",
    "\n",
    "model.fit(train_data, validation_data = val_data, epochs=15)\n"
   ]
  },
  {
   "cell_type": "code",
   "execution_count": 15,
   "id": "1d21d0b5",
   "metadata": {},
   "outputs": [
    {
     "name": "stderr",
     "output_type": "stream",
     "text": [
      "C:\\Users\\emxxx\\AppData\\Roaming\\Python\\Python312\\site-packages\\keras\\src\\trainers\\data_adapters\\py_dataset_adapter.py:121: UserWarning: Your `PyDataset` class should call `super().__init__(**kwargs)` in its constructor. `**kwargs` can include `workers`, `use_multiprocessing`, `max_queue_size`. Do not pass these arguments to `fit()`, as they will be ignored.\n",
      "  self._warn_if_super_not_called()\n"
     ]
    },
    {
     "name": "stdout",
     "output_type": "stream",
     "text": [
      "\u001b[1m625/625\u001b[0m \u001b[32m━━━━━━━━━━━━━━━━━━━━\u001b[0m\u001b[37m\u001b[0m \u001b[1m326s\u001b[0m 522ms/step - accuracy: 0.9313 - loss: 0.2767\n",
      "Test Accuracy: 93.71%\n"
     ]
    }
   ],
   "source": [
    "loss, accuracy = model.evaluate(test_data)\n",
    "print(f\"Test Accuracy: {accuracy*100:.2f}%\")"
   ]
  },
  {
   "cell_type": "code",
   "execution_count": 16,
   "id": "c3313e72",
   "metadata": {},
   "outputs": [
    {
     "name": "stderr",
     "output_type": "stream",
     "text": [
      "WARNING:absl:You are saving your model as an HDF5 file via `model.save()` or `keras.saving.save_model(model)`. This file format is considered legacy. We recommend using instead the native Keras format, e.g. `model.save('my_model.keras')` or `keras.saving.save_model(model, 'my_model.keras')`. \n"
     ]
    }
   ],
   "source": [
    "model.save('real-vs-fake-model.h5')"
   ]
  },
  {
   "cell_type": "code",
   "execution_count": null,
   "id": "85e562e0",
   "metadata": {},
   "outputs": [],
   "source": []
  }
 ],
 "metadata": {
  "kernelspec": {
   "display_name": "Python 3",
   "language": "python",
   "name": "python3"
  },
  "language_info": {
   "codemirror_mode": {
    "name": "ipython",
    "version": 3
   },
   "file_extension": ".py",
   "mimetype": "text/x-python",
   "name": "python",
   "nbconvert_exporter": "python",
   "pygments_lexer": "ipython3",
   "version": "3.12.6"
  }
 },
 "nbformat": 4,
 "nbformat_minor": 5
}
